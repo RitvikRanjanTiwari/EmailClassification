{
 "cells": [
  {
   "cell_type": "code",
   "execution_count": 26,
   "id": "fd9b1c5a",
   "metadata": {},
   "outputs": [],
   "source": [
    "import pandas as pd\n",
    "import numpy as np\n",
    "from sklearn.model_selection import train_test_split\n",
    "from sklearn.metrics import accuracy_score,classification_report,confusion_matrix,roc_auc_score\n",
    "from sklearn.preprocessing import StandardScaler\n",
    "from sklearn.decomposition import PCA\n",
    "\n",
    "from sklearn.linear_model import LogisticRegression\n",
    "from sklearn.tree import DecisionTreeClassifier\n",
    "import matplotlib.pyplot as plt\n",
    "from sklearn import tree\n",
    "import seaborn as sns\n",
    "\n",
    "from sklearn.ensemble import AdaBoostClassifier\n",
    "\n",
    "from sklearn.ensemble import RandomForestClassifier\n",
    "\n",
    "from sklearn.neighbors import KNeighborsClassifier \n",
    "\n",
    "from sklearn.svm import SVC\n",
    "\n",
    "\n",
    "import warnings\n",
    "warnings.filterwarnings('ignore')"
   ]
  },
  {
   "cell_type": "code",
   "execution_count": 29,
   "id": "8ba572e0",
   "metadata": {},
   "outputs": [],
   "source": [
    "df=pd.read_csv('emails.csv')"
   ]
  },
  {
   "cell_type": "code",
   "execution_count": 30,
   "id": "a3502158",
   "metadata": {},
   "outputs": [
    {
     "name": "stdout",
     "output_type": "stream",
     "text": [
      "   the  to  ect  and  for  of    a  you  hou  in  ...  connevey  jay  valued  \\\n",
      "0    0   0    1    0    0   0    2    0    0   0  ...         0    0       0   \n",
      "1    8  13   24    6    6   2  102    1   27  18  ...         0    0       0   \n",
      "2    0   0    1    0    0   0    8    0    0   4  ...         0    0       0   \n",
      "3    0   5   22    0    5   1   51    2   10   1  ...         0    0       0   \n",
      "4    7   6   17    1    5   2   57    0    9   3  ...         0    0       0   \n",
      "\n",
      "   lay  infrastructure  military  allowing  ff  dry  Prediction  \n",
      "0    0               0         0         0   0    0           0  \n",
      "1    0               0         0         0   1    0           0  \n",
      "2    0               0         0         0   0    0           0  \n",
      "3    0               0         0         0   0    0           0  \n",
      "4    0               0         0         0   1    0           0  \n",
      "\n",
      "[5 rows x 3001 columns]\n"
     ]
    }
   ],
   "source": [
    "df=df.drop('Email',axis=1)\n",
    "print(df.head())"
   ]
  },
  {
   "cell_type": "code",
   "execution_count": null,
   "id": "b89722fa",
   "metadata": {},
   "outputs": [],
   "source": []
  },
  {
   "cell_type": "code",
   "execution_count": 20,
   "id": "b435a18b",
   "metadata": {},
   "outputs": [
    {
     "data": {
      "image/png": "[encoded data removed]",
      "text/plain": [
       "<Figure size 432x288 with 1 Axes>"
      ]
     },
     "metadata": {
      "needs_background": "light"
     },
     "output_type": "display_data"
    }
   ],
   "source": [
    "df['Prediction'].value_counts().plot.bar(color = [\"b\",\"r\"]) \n",
    "plt.title('Total number of ham(0) and spam(1) in the dataset')\n",
    "plt.show()"
   ]
  },
  {
   "cell_type": "code",
   "execution_count": 31,
   "id": "3964231a",
   "metadata": {},
   "outputs": [
    {
     "data": {
      "text/plain": [
       "(5172, 1063)"
      ]
     },
     "execution_count": 31,
     "metadata": {},
     "output_type": "execute_result"
    }
   ],
   "source": [
    "x_=df.iloc[:,:-1]\n",
    "normal=StandardScaler()\n",
    "x_=normal.fit_transform(x_)\n",
    "\n",
    "pca_var= PCA(n_components=0.95, svd_solver='full')\n",
    "\n",
    "X_pca = pca_var.fit_transform(x_)\n",
    "X_pca.shape"
   ]
  },
  {
   "cell_type": "code",
   "execution_count": 33,
   "id": "97f3dab3",
   "metadata": {},
   "outputs": [
    {
     "name": "stdout",
     "output_type": "stream",
     "text": [
      "no of componentes: 1063\n",
      "PCA(n_components=0.95, svd_solver='full')\n"
     ]
    }
   ],
   "source": [
    "min_var = 0.95  # Variance\n",
    "\n",
    "pca_var= PCA(n_components=min_var, svd_solver='full')\n",
    "\n",
    "X_pca2 = pca_var.fit(x_)\n",
    "\n",
    "print('no of componentes:', len(X_pca2.components_))\n",
    "#print('Ratio of explained variance:')\n",
    "#print(X_pca2.explained_variance_ratio_)\n",
    "print(X_pca2)"
   ]
  },
  {
   "cell_type": "code",
   "execution_count": 23,
   "id": "25106e82",
   "metadata": {},
   "outputs": [],
   "source": [
    "X_train,X_test,Y_train,Y_test=train_test_split(X_pca,df.iloc[:,-1],test_size=0.3, random_state=4)"
   ]
  },
  {
   "cell_type": "code",
   "execution_count": null,
   "id": "278ad8e1",
   "metadata": {},
   "outputs": [],
   "source": []
  },
  {
   "cell_type": "markdown",
   "id": "5501ee41",
   "metadata": {},
   "source": [
    "# Logistic Regression"
   ]
  },
  {
   "cell_type": "code",
   "execution_count": 24,
   "id": "ac1c17d4",
   "metadata": {},
   "outputs": [
    {
     "name": "stdout",
     "output_type": "stream",
     "text": [
      "accuracy score 0.9587628865979382\n",
      "-------------------------------------------------------\n",
      "classification report\n",
      "              precision    recall  f1-score   support\n",
      "\n",
      "           0       0.98      0.96      0.97      1093\n",
      "           1       0.92      0.95      0.93       459\n",
      "\n",
      "    accuracy                           0.96      1552\n",
      "   macro avg       0.95      0.96      0.95      1552\n",
      "weighted avg       0.96      0.96      0.96      1552\n",
      "\n",
      "-------------------------------------------------------\n",
      "confusion matrix\n",
      "[[1053   40]\n",
      " [  24  435]]\n",
      "ROC AUC for Train :  0.9989380718200168\n",
      "ROC AUC for Test :  0.955557947485185\n"
     ]
    }
   ],
   "source": [
    "\n",
    "model=LogisticRegression()\n",
    "model.fit(X_train,Y_train)\n",
    "y_tr_pred=model.predict(X_train)\n",
    "y_te_pred=model.predict(X_test)\n",
    "print(\"accuracy score\",accuracy_score(Y_test,y_te_pred))\n",
    "print(\"-------------------------------------------------------\")\n",
    "print(\"classification report\")\n",
    "print(classification_report(Y_test,y_te_pred))\n",
    "print(\"-------------------------------------------------------\")\n",
    "print(\"confusion matrix\")\n",
    "print(confusion_matrix(Y_test,y_te_pred))\n",
    "print(\"ROC AUC for Train : \", roc_auc_score(Y_train, y_tr_pred))\n",
    "print(\"ROC AUC for Test : \", roc_auc_score(Y_test, y_te_pred))"
   ]
  },
  {
   "cell_type": "code",
   "execution_count": null,
   "id": "36b6ac8f",
   "metadata": {},
   "outputs": [],
   "source": []
  },
  {
   "cell_type": "markdown",
   "id": "d566807e",
   "metadata": {},
   "source": [
    "# KNN Classification"
   ]
  },
  {
   "cell_type": "code",
   "execution_count": 34,
   "id": "d6c38970",
   "metadata": {},
   "outputs": [
    {
     "name": "stdout",
     "output_type": "stream",
     "text": [
      "0.9478092783505154\n",
      "k= 2\n",
      "-------------------------------------------------------\n",
      "classification report\n",
      "              precision    recall  f1-score   support\n",
      "\n",
      "           0       0.98      0.96      0.97      1093\n",
      "           1       0.92      0.95      0.93       459\n",
      "\n",
      "    accuracy                           0.96      1552\n",
      "   macro avg       0.95      0.96      0.95      1552\n",
      "weighted avg       0.96      0.96      0.96      1552\n",
      "\n",
      "-------------------------------------------------------\n",
      "confusion matrix\n",
      "[[1053   40]\n",
      " [  24  435]]\n"
     ]
    }
   ],
   "source": [
    "l=[]\n",
    "for k in range(1,200):\n",
    "    knn=KNeighborsClassifier(n_neighbors=k)\n",
    "    knn.fit(X_train,Y_train)\n",
    "    \n",
    "    pred=knn.predict(X_test)\n",
    "    l.append(accuracy_score(Y_test,pred))\n",
    "#print(l)\n",
    "print(max(l))\n",
    "print(\"k=\",l.index(max(l))+1)\n",
    "print(\"-------------------------------------------------------\")\n",
    "print(\"classification report\")\n",
    "print(classification_report(Y_test,y_te_pred))\n",
    "print(\"-------------------------------------------------------\")\n",
    "print(\"confusion matrix\")\n",
    "print(confusion_matrix(Y_test,y_te_pred))"
   ]
  },
  {
   "cell_type": "code",
   "execution_count": null,
   "id": "096c3e7a",
   "metadata": {},
   "outputs": [],
   "source": []
  },
  {
   "cell_type": "markdown",
   "id": "b0d9249d",
   "metadata": {},
   "source": [
    "# SVM Classification"
   ]
  },
  {
   "cell_type": "code",
   "execution_count": 35,
   "id": "840f37b7",
   "metadata": {},
   "outputs": [
    {
     "name": "stdout",
     "output_type": "stream",
     "text": [
      "accuracy= 0.907860824742268\n",
      "-------------------------------------------------------\n",
      "classification report\n",
      "              precision    recall  f1-score   support\n",
      "\n",
      "           0       0.97      0.95      0.96      1093\n",
      "           1       0.89      0.93      0.91       459\n",
      "\n",
      "    accuracy                           0.95      1552\n",
      "   macro avg       0.93      0.94      0.94      1552\n",
      "weighted avg       0.95      0.95      0.95      1552\n",
      "\n",
      "-------------------------------------------------------\n",
      "confusion matrix\n",
      "[[953 140]\n",
      " [  3 456]]\n",
      "ROC AUC for Test :  0.9439899778148527\n"
     ]
    }
   ],
   "source": [
    "model=SVC(C=1,kernel='linear',gamma=1)\n",
    "model.fit(X_train,Y_train)\n",
    "y_tr_pred=model.predict(X_train)\n",
    "y_te_pred=model.predict(X_test)\n",
    "print(\"accuracy=\",accuracy_score(Y_test,pred))\n",
    "print(\"-------------------------------------------------------\")\n",
    "print(\"classification report\")\n",
    "print(classification_report(Y_test,y_te_pred))\n",
    "print(\"-------------------------------------------------------\")\n",
    "print(\"confusion matrix\")\n",
    "print(confusion_matrix(Y_test,pred))\n",
    "print(\"ROC AUC for Test : \", roc_auc_score(Y_test, y_te_pred))"
   ]
  },
  {
   "cell_type": "markdown",
   "id": "8d086fce",
   "metadata": {},
   "source": [
    "# Ada Boost Classifier"
   ]
  },
  {
   "cell_type": "code",
   "execution_count": 11,
   "id": "37c01509",
   "metadata": {},
   "outputs": [
    {
     "name": "stdout",
     "output_type": "stream",
     "text": [
      "accuracy score 0.9568298969072165\n",
      "-------------------------------------------------------\n",
      "classification report\n",
      "              precision    recall  f1-score   support\n",
      "\n",
      "           0       0.98      0.96      0.97      1093\n",
      "           1       0.91      0.95      0.93       459\n",
      "\n",
      "    accuracy                           0.96      1552\n",
      "   macro avg       0.94      0.96      0.95      1552\n",
      "weighted avg       0.96      0.96      0.96      1552\n",
      "\n",
      "-------------------------------------------------------\n",
      "confusion matrix\n",
      "[[1048   45]\n",
      " [  22  437]]\n",
      "ROC AUC for Train :  0.9805413114645408\n",
      "ROC AUC for Test :  0.955449314014515\n"
     ]
    }
   ],
   "source": [
    "model = AdaBoostClassifier(n_estimators=50)\n",
    "model.fit(X_train,Y_train)\n",
    "y_tr_pred=model.predict(X_train)\n",
    "y_te_pred=model.predict(X_test)\n",
    "print(\"accuracy score\",accuracy_score(Y_test,y_te_pred))\n",
    "print(\"-------------------------------------------------------\")\n",
    "print(\"classification report\")\n",
    "print(classification_report(Y_test,y_te_pred))\n",
    "print(\"-------------------------------------------------------\")\n",
    "print(\"confusion matrix\")\n",
    "print(confusion_matrix(Y_test,y_te_pred))\n",
    "print(\"ROC AUC for Train : \", roc_auc_score(Y_train, y_tr_pred))\n",
    "print(\"ROC AUC for Test : \", roc_auc_score(Y_test, y_te_pred))"
   ]
  },
  {
   "cell_type": "markdown",
   "id": "95ca5326",
   "metadata": {},
   "source": [
    "# Random Forest Classifier"
   ]
  },
  {
   "cell_type": "code",
   "execution_count": 36,
   "id": "046b6600",
   "metadata": {},
   "outputs": [
    {
     "name": "stdout",
     "output_type": "stream",
     "text": [
      "accuracy score 0.9329896907216495\n",
      "-------------------------------------------------------\n",
      "classification report\n",
      "              precision    recall  f1-score   support\n",
      "\n",
      "           0       0.94      0.96      0.95      1093\n",
      "           1       0.91      0.86      0.88       459\n",
      "\n",
      "    accuracy                           0.93      1552\n",
      "   macro avg       0.93      0.91      0.92      1552\n",
      "weighted avg       0.93      0.93      0.93      1552\n",
      "\n",
      "-------------------------------------------------------\n",
      "confusion matrix\n",
      "[[1053   40]\n",
      " [  64  395]]\n",
      "ROC AUC for Test :  0.9119849627357296\n"
     ]
    }
   ],
   "source": [
    "model=RandomForestClassifier(n_estimators=15 , random_state=4)\n",
    "model.fit(X_train,Y_train)\n",
    "y_tr_pred=model.predict(X_train)\n",
    "y_te_pred=model.predict(X_test)\n",
    "print(\"accuracy score\",accuracy_score(Y_test,y_te_pred))\n",
    "print(\"-------------------------------------------------------\")\n",
    "print(\"classification report\")\n",
    "print(classification_report(Y_test,y_te_pred))\n",
    "print(\"-------------------------------------------------------\")\n",
    "print(\"confusion matrix\")\n",
    "print(confusion_matrix(Y_test,y_te_pred))\n",
    "print(\"ROC AUC for Test : \", roc_auc_score(Y_test, y_te_pred))"
   ]
  },
  {
   "cell_type": "markdown",
   "id": "f4b7cc01",
   "metadata": {},
   "source": [
    "# Decision Tree Classification"
   ]
  },
  {
   "cell_type": "code",
   "execution_count": 53,
   "id": "ad2aafe3",
   "metadata": {},
   "outputs": [
    {
     "name": "stdout",
     "output_type": "stream",
     "text": [
      "accuracy score 0.9246134020618557\n",
      "-------------------------------------------------------\n",
      "classification report\n",
      "              precision    recall  f1-score   support\n",
      "\n",
      "           0       0.96      0.93      0.95      1093\n",
      "           1       0.85      0.90      0.88       459\n",
      "\n",
      "    accuracy                           0.92      1552\n",
      "   macro avg       0.90      0.92      0.91      1552\n",
      "weighted avg       0.93      0.92      0.93      1552\n",
      "\n",
      "-------------------------------------------------------\n",
      "confusion matrix\n",
      "[[1020   73]\n",
      " [  44  415]]\n",
      "ROC AUC for Train :  0.9574740784858417\n",
      "ROC AUC for Test :  0.9186753892367153\n"
     ]
    }
   ],
   "source": [
    "model=DecisionTreeClassifier(max_depth=5)\n",
    "model.fit(X_train,Y_train)\n",
    "y_tr_pred=model.predict(X_train)\n",
    "y_te_pred=model.predict(X_test)\n",
    "print(\"accuracy score\",accuracy_score(Y_test,y_te_pred))\n",
    "print(\"-------------------------------------------------------\")\n",
    "print(\"classification report\")\n",
    "print(classification_report(Y_test,y_te_pred))\n",
    "print(\"-------------------------------------------------------\")\n",
    "print(\"confusion matrix\")\n",
    "print(confusion_matrix(Y_test,y_te_pred))\n",
    "\n",
    "\n",
    "print(\"ROC AUC for Train : \", roc_auc_score(Y_train, y_tr_pred))\n",
    "print(\"ROC AUC for Test : \", roc_auc_score(Y_test, y_te_pred))\n",
    "\n",
    "\n",
    "path=model.cost_complexity_pruning_path(X_train,Y_train)\n",
    "a=path['ccp_alphas']\n",
    "#print(\"alpha_vlues\",a)"
   ]
  },
  {
   "cell_type": "code",
   "execution_count": 54,
   "id": "1a0ad5a7",
   "metadata": {},
   "outputs": [
    {
     "data": {
      "image/png": "[encoded data removed]",
      "text/plain": [
       "<Figure size 1440x720 with 1 Axes>"
      ]
     },
     "metadata": {
      "needs_background": "light"
     },
     "output_type": "display_data"
    }
   ],
   "source": [
    "plt.figure(figsize=(20,10))\n",
    "tree.plot_tree(model)\n",
    "plt.show()"
   ]
  },
  {
   "cell_type": "code",
   "execution_count": null,
   "id": "0a1994f2",
   "metadata": {},
   "outputs": [],
   "source": []
  }
 ],
 "metadata": {
  "kernelspec": {
   "display_name": "Python 3 (ipykernel)",
   "language": "python",
   "name": "python3"
  },
  "language_info": {
   "codemirror_mode": {
    "name": "ipython",
    "version": 3
   },
   "file_extension": ".py",
   "mimetype": "text/x-python",
   "name": "python",
   "nbconvert_exporter": "python",
   "pygments_lexer": "ipython3",
   "version": "3.9.7"
  }
 },
 "nbformat": 4,
 "nbformat_minor": 5
}
